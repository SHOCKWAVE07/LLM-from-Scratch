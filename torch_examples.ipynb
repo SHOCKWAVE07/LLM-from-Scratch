{
 "cells": [
  {
   "cell_type": "code",
   "execution_count": 1,
   "metadata": {},
   "outputs": [],
   "source": [
    "import torch"
   ]
  },
  {
   "cell_type": "code",
   "execution_count": 9,
   "metadata": {},
   "outputs": [
    {
     "name": "stdout",
     "output_type": "stream",
     "text": [
      "tensor([ 96,  33, -88,  44, -80,  -9, -73,  13, -99,  49,  72, -25, -95,  42,\n",
      "         85, -11, -49, -79, -79,  54])\n"
     ]
    }
   ],
   "source": [
    "nums = torch.randint(-100,100,(20,))\n",
    "print(nums)"
   ]
  },
  {
   "cell_type": "code",
   "execution_count": 3,
   "metadata": {},
   "outputs": [
    {
     "data": {
      "text/plain": [
       "tensor([[0.1000, 0.2000],\n",
       "        [1.4000, 2.5000],\n",
       "        [3.6000, 4.7000]])"
      ]
     },
     "execution_count": 3,
     "metadata": {},
     "output_type": "execute_result"
    }
   ],
   "source": [
    "tensor = torch.tensor([(0.1,0.2),(1.4,2.5),(3.6,4.7)])\n",
    "tensor"
   ]
  },
  {
   "cell_type": "code",
   "execution_count": 4,
   "metadata": {},
   "outputs": [
    {
     "data": {
      "text/plain": [
       "tensor([[0., 0., 0.],\n",
       "        [0., 0., 0.],\n",
       "        [0., 0., 0.]])"
      ]
     },
     "execution_count": 4,
     "metadata": {},
     "output_type": "execute_result"
    }
   ],
   "source": [
    "zeros = torch.zeros(3,3)\n",
    "zeros"
   ]
  },
  {
   "cell_type": "code",
   "execution_count": 12,
   "metadata": {},
   "outputs": [
    {
     "data": {
      "text/plain": [
       "tensor([[1., 1., 1., 1.],\n",
       "        [1., 1., 1., 1.],\n",
       "        [1., 1., 1., 1.]])"
      ]
     },
     "execution_count": 12,
     "metadata": {},
     "output_type": "execute_result"
    }
   ],
   "source": [
    "ones = torch.ones(3,4)\n",
    "ones"
   ]
  },
  {
   "cell_type": "code",
   "execution_count": 13,
   "metadata": {},
   "outputs": [
    {
     "data": {
      "text/plain": [
       "tensor([[0., 0., 0.],\n",
       "        [0., 0., 0.]])"
      ]
     },
     "execution_count": 13,
     "metadata": {},
     "output_type": "execute_result"
    }
   ],
   "source": [
    "input = torch.empty((2,3))    \n",
    "input"
   ]
  },
  {
   "cell_type": "code",
   "execution_count": 17,
   "metadata": {},
   "outputs": [
    {
     "data": {
      "text/plain": [
       "tensor([0, 1, 2, 3, 4, 5, 6, 7])"
      ]
     },
     "execution_count": 17,
     "metadata": {},
     "output_type": "execute_result"
    }
   ],
   "source": [
    "arange = torch.arange(8) \n",
    "arange"
   ]
  },
  {
   "cell_type": "code",
   "execution_count": 18,
   "metadata": {},
   "outputs": [
    {
     "data": {
      "text/plain": [
       "tensor([ 0.0000,  2.5000,  5.0000,  7.5000, 10.0000])"
      ]
     },
     "execution_count": 18,
     "metadata": {},
     "output_type": "execute_result"
    }
   ],
   "source": [
    "linespace = torch.linspace(0,10,5)  \n",
    "linespace"
   ]
  },
  {
   "cell_type": "code",
   "execution_count": 20,
   "metadata": {},
   "outputs": [
    {
     "data": {
      "text/plain": [
       "tensor([1.0000e-10, 1.0000e-05, 1.0000e+00, 1.0000e+05, 1.0000e+10])"
      ]
     },
     "execution_count": 20,
     "metadata": {},
     "output_type": "execute_result"
    }
   ],
   "source": [
    "logspace = torch.logspace(-10,10,5)   \n",
    "logspace"
   ]
  },
  {
   "cell_type": "code",
   "execution_count": 22,
   "metadata": {},
   "outputs": [
    {
     "data": {
      "text/plain": [
       "tensor([[1., 0., 0., 0., 0., 0.],\n",
       "        [0., 1., 0., 0., 0., 0.],\n",
       "        [0., 0., 1., 0., 0., 0.],\n",
       "        [0., 0., 0., 1., 0., 0.],\n",
       "        [0., 0., 0., 0., 1., 0.],\n",
       "        [0., 0., 0., 0., 0., 1.]])"
      ]
     },
     "execution_count": 22,
     "metadata": {},
     "output_type": "execute_result"
    }
   ],
   "source": [
    "eye = torch.eye(6)\n",
    "eye"
   ]
  },
  {
   "cell_type": "code",
   "execution_count": 24,
   "metadata": {},
   "outputs": [
    {
     "data": {
      "text/plain": [
       "tensor([[72057594037927937,   281474976710656,     1099511627776],\n",
       "        [       4294967296,          16777216,                 0]])"
      ]
     },
     "execution_count": 24,
     "metadata": {},
     "output_type": "execute_result"
    }
   ],
   "source": [
    "a = torch.empty((2,3),dtype=torch.int64)\n",
    "empty_like = torch.empty_like(a)\n",
    "empty_like"
   ]
  },
  {
   "cell_type": "code",
   "execution_count": 31,
   "metadata": {},
   "outputs": [
    {
     "data": {
      "text/plain": [
       "tensor([1, 0, 0, 1, 1, 1, 1, 0, 1, 0])"
      ]
     },
     "execution_count": 31,
     "metadata": {},
     "output_type": "execute_result"
    }
   ],
   "source": [
    "probabilities = torch.tensor([0.1,0.9])\n",
    "samples = torch.multinomial(probabilities,10,replacement=True)\n",
    "samples"
   ]
  },
  {
   "cell_type": "code",
   "execution_count": 36,
   "metadata": {},
   "outputs": [
    {
     "data": {
      "text/plain": [
       "tensor([1, 2, 3, 4, 5, 6])"
      ]
     },
     "execution_count": 36,
     "metadata": {},
     "output_type": "execute_result"
    }
   ],
   "source": [
    "tensor = torch.tensor([1,2,3,4,5])\n",
    "out = torch.cat((tensor,torch.tensor([6])), dim=0)\n",
    "out"
   ]
  },
  {
   "cell_type": "code",
   "execution_count": 39,
   "metadata": {},
   "outputs": [
    {
     "data": {
      "text/plain": [
       "tensor([[1., 0., 0., 0., 0.],\n",
       "        [1., 1., 0., 0., 0.],\n",
       "        [1., 1., 1., 0., 0.],\n",
       "        [1., 1., 1., 1., 0.],\n",
       "        [1., 1., 1., 1., 1.]])"
      ]
     },
     "execution_count": 39,
     "metadata": {},
     "output_type": "execute_result"
    }
   ],
   "source": [
    "out = torch.tril(torch.ones(5,5))\n",
    "out"
   ]
  },
  {
   "cell_type": "code",
   "execution_count": 40,
   "metadata": {},
   "outputs": [
    {
     "data": {
      "text/plain": [
       "tensor([[1., 1., 1., 1., 1.],\n",
       "        [0., 1., 1., 1., 1.],\n",
       "        [0., 0., 1., 1., 1.],\n",
       "        [0., 0., 0., 1., 1.],\n",
       "        [0., 0., 0., 0., 1.]])"
      ]
     },
     "execution_count": 40,
     "metadata": {},
     "output_type": "execute_result"
    }
   ],
   "source": [
    "out = torch.triu(torch.ones(5,5))   \n",
    "out"
   ]
  },
  {
   "cell_type": "code",
   "execution_count": 46,
   "metadata": {},
   "outputs": [
    {
     "data": {
      "text/plain": [
       "tensor([[0., -inf, -inf, -inf, -inf],\n",
       "        [0., 0., -inf, -inf, -inf],\n",
       "        [0., 0., 0., -inf, -inf],\n",
       "        [0., 0., 0., 0., -inf],\n",
       "        [0., 0., 0., 0., 0.]])"
      ]
     },
     "execution_count": 46,
     "metadata": {},
     "output_type": "execute_result"
    }
   ],
   "source": [
    "out = torch.zeros(5,5).masked_fill(torch.tril(torch.ones(5,5)) ==0, float('-inf'))\n",
    "out"
   ]
  },
  {
   "cell_type": "code",
   "execution_count": 47,
   "metadata": {},
   "outputs": [
    {
     "data": {
      "text/plain": [
       "tensor([[1., 0., 0., 0., 0.],\n",
       "        [1., 1., 0., 0., 0.],\n",
       "        [1., 1., 1., 0., 0.],\n",
       "        [1., 1., 1., 1., 0.],\n",
       "        [1., 1., 1., 1., 1.]])"
      ]
     },
     "execution_count": 47,
     "metadata": {},
     "output_type": "execute_result"
    }
   ],
   "source": [
    "out = torch.exp(out)\n",
    "out"
   ]
  },
  {
   "cell_type": "code",
   "execution_count": 50,
   "metadata": {},
   "outputs": [
    {
     "data": {
      "text/plain": [
       "torch.Size([4, 3, 2])"
      ]
     },
     "execution_count": 50,
     "metadata": {},
     "output_type": "execute_result"
    }
   ],
   "source": [
    "out = torch.zeros((2,3,4))\n",
    "out = out.transpose(0,2)\n",
    "out.shape"
   ]
  },
  {
   "cell_type": "code",
   "execution_count": 51,
   "metadata": {},
   "outputs": [
    {
     "data": {
      "text/plain": [
       "tensor([[ 1,  2,  3,  4,  5],\n",
       "        [ 6,  7,  8,  9, 10],\n",
       "        [11, 12, 13, 14, 15]])"
      ]
     },
     "execution_count": 51,
     "metadata": {},
     "output_type": "execute_result"
    }
   ],
   "source": [
    "tensor1 = torch.tensor([1,2,3,4,5])\n",
    "tensor2 = torch.tensor([6,7,8,9,10])\n",
    "tensor3 = torch.tensor([11,12,13,14,15])\n",
    "\n",
    "out = torch.stack((tensor1,tensor2,tensor3),dim=0)\n",
    "out"
   ]
  },
  {
   "cell_type": "code",
   "execution_count": 55,
   "metadata": {},
   "outputs": [
    {
     "name": "stdout",
     "output_type": "stream",
     "text": [
      "tensor([ 9.0512,  0.1906, -5.1291,  4.1881], grad_fn=<SqueezeBackward4>)\n"
     ]
    }
   ],
   "source": [
    "import torch.nn as nn\n",
    "sample = torch.tensor([10.,10.,10.])\n",
    "linear = nn.Linear(3,4,bias=False)  \n",
    "print(linear(sample))   "
   ]
  },
  {
   "cell_type": "code",
   "execution_count": 63,
   "metadata": {},
   "outputs": [
    {
     "name": "stdout",
     "output_type": "stream",
     "text": [
      "tensor([0.0900, 0.2447, 0.6652])\n"
     ]
    }
   ],
   "source": [
    "import torch.nn.functional as F\n",
    "sample = torch.tensor([1.,2.,3.])\n",
    "softmax_out = F.softmax(sample,dim=0)\n",
    "print(softmax_out)"
   ]
  },
  {
   "cell_type": "code",
   "execution_count": 66,
   "metadata": {},
   "outputs": [
    {
     "name": "stdout",
     "output_type": "stream",
     "text": [
      "Embedding Matrix:\n",
      " Parameter containing:\n",
      "tensor([[-8.6742e-01, -1.8906e+00,  8.0141e-01],\n",
      "        [ 1.9014e+00,  1.5473e+00, -1.0890e+00],\n",
      "        [ 2.8760e-01,  5.4438e-01, -6.7637e-01],\n",
      "        [-1.0395e+00, -8.0557e-01, -1.3654e-01],\n",
      "        [ 1.4762e+00,  3.9589e-01, -4.5874e-01],\n",
      "        [-1.8376e+00, -7.8064e-02,  7.1239e-01],\n",
      "        [-1.5295e+00, -1.0686e+00, -1.4382e+00],\n",
      "        [-9.3571e-01,  1.8644e+00,  6.7123e-01],\n",
      "        [-3.3931e-01,  1.3566e-01, -7.4251e-01],\n",
      "        [ 5.1094e-01,  7.1178e-01,  1.2774e-01],\n",
      "        [-4.7085e-01, -2.6677e-01, -7.3531e-02],\n",
      "        [-6.2621e-01, -1.1094e-01,  8.1324e-01],\n",
      "        [-2.1885e+00, -1.5898e+00, -7.4725e-01],\n",
      "        [-1.0949e+00,  1.1330e+00,  1.3515e+00],\n",
      "        [-5.3057e-01,  1.2245e+00,  4.7059e-01],\n",
      "        [-4.9762e-01,  1.1860e+00,  1.1245e+00],\n",
      "        [ 1.0833e+00, -1.7950e+00,  3.0690e+00],\n",
      "        [ 2.1134e+00,  4.6280e-01, -1.0402e+00],\n",
      "        [ 1.6639e-01,  9.5676e-01, -8.3726e-01],\n",
      "        [-3.1988e+00, -1.0600e+00,  1.1438e+00],\n",
      "        [-4.7928e-01,  8.6480e-01, -1.0208e+00],\n",
      "        [-1.1098e+00,  1.8283e+00, -1.8545e+00],\n",
      "        [ 4.7360e-03,  2.8892e+00,  3.4089e-01],\n",
      "        [ 1.3574e+00, -3.5654e-01,  7.9865e-01],\n",
      "        [ 1.2580e+00, -1.3761e+00, -6.5260e-01],\n",
      "        [-1.0325e+00,  1.5529e-01, -5.9866e-02],\n",
      "        [ 3.2554e-01,  4.6202e-01, -7.0243e-01],\n",
      "        [-1.2277e+00, -4.2141e-01,  3.2463e-01],\n",
      "        [ 1.0737e+00,  3.9440e-01, -2.2631e+00],\n",
      "        [ 1.6526e+00, -4.5928e-02, -1.6955e+00],\n",
      "        [ 9.0942e-01,  1.0327e+00,  1.0895e+00],\n",
      "        [-8.0731e-01, -1.0353e+00, -7.6723e-02],\n",
      "        [ 1.3345e+00, -3.9648e-01,  6.3791e-01],\n",
      "        [-6.0797e-01, -1.0195e+00, -2.0866e+00],\n",
      "        [ 1.0689e+00, -6.1866e-01,  1.7179e+00],\n",
      "        [ 7.7353e-01, -1.6043e+00, -1.7296e+00],\n",
      "        [ 7.0880e-01,  1.6589e+00, -9.4359e-01],\n",
      "        [-3.0637e-01, -1.0378e+00, -6.5578e-01],\n",
      "        [ 7.0898e-01, -1.2394e+00, -9.4710e-01],\n",
      "        [-7.0531e-01, -3.8914e-01,  2.2340e+00],\n",
      "        [ 4.5750e-01, -4.2161e-01,  9.7716e-01],\n",
      "        [ 9.0529e-02, -2.0874e+00,  1.0236e+00],\n",
      "        [ 4.3651e-01, -9.1104e-01, -1.5306e+00],\n",
      "        [ 5.2247e-01, -4.9142e-01, -6.9442e-01],\n",
      "        [-4.0910e-01, -1.0245e+00, -7.8069e-01],\n",
      "        [ 1.8681e-02, -3.1750e-01,  4.5762e-01],\n",
      "        [ 5.3192e-01, -1.2898e+00, -9.4968e-01],\n",
      "        [ 7.2351e-01, -5.0020e-01,  5.3723e-01],\n",
      "        [-4.3126e-01, -3.3051e-01, -9.9245e-01],\n",
      "        [-5.0890e-01,  1.4227e-01,  4.5047e-01],\n",
      "        [ 1.2424e+00, -3.5933e-01,  5.2675e-01],\n",
      "        [-8.7130e-01, -2.5171e-01, -6.9031e-01],\n",
      "        [ 8.0603e-01,  1.1212e+00, -1.2768e+00],\n",
      "        [-9.2483e-01, -2.1098e+00, -3.1889e-01],\n",
      "        [-5.2922e-01, -4.8213e-02, -1.1531e+00],\n",
      "        [-1.0217e+00, -1.0339e+00,  2.0969e+00],\n",
      "        [-4.7557e-01, -2.3734e-01,  5.9811e-01],\n",
      "        [-1.0809e+00, -4.6940e-01,  4.2615e-01],\n",
      "        [ 7.7896e-01, -1.3709e+00, -3.0728e-01],\n",
      "        [-1.7107e+00,  8.0101e-01,  2.1617e-03],\n",
      "        [-6.7165e-02, -1.0385e+00, -2.6712e+00],\n",
      "        [-1.3345e+00,  1.8660e+00, -5.0652e-01],\n",
      "        [ 8.3724e-01, -4.5374e-01, -3.1855e+00],\n",
      "        [ 1.0398e+00, -6.4718e-01,  8.3660e-01],\n",
      "        [ 1.9886e-01, -7.6438e-01,  8.5864e-01],\n",
      "        [-3.3819e-01, -2.5873e-01, -1.9929e-01],\n",
      "        [ 1.2037e+00,  6.3167e-01,  5.8103e-01],\n",
      "        [ 2.2343e-01,  1.3694e+00,  2.3571e+00],\n",
      "        [ 2.4824e-01,  7.3553e-01,  2.0939e-01],\n",
      "        [-1.0193e+00,  1.0940e+00,  2.4150e-01],\n",
      "        [-4.5853e-01, -2.3536e+00,  1.6515e-01],\n",
      "        [ 3.6833e-01, -9.0376e-01,  1.2155e+00],\n",
      "        [-9.5107e-01, -2.5900e-01, -7.0217e-01],\n",
      "        [ 5.4279e-01,  1.1790e-01, -6.0760e-01],\n",
      "        [ 8.7574e-01,  8.3715e-01, -9.6427e-01],\n",
      "        [ 2.8678e-01,  1.3383e+00, -1.3051e+00],\n",
      "        [-7.1866e-01, -1.1415e+00,  2.6957e-01],\n",
      "        [-1.9293e+00, -4.2666e-01,  3.0587e-01],\n",
      "        [-3.1409e-01, -6.6824e-01, -2.8122e-02],\n",
      "        [ 5.0743e-01, -4.6973e-01,  1.5534e+00]], requires_grad=True)\n",
      "Output Embeddings:\n",
      " tensor([[-0.8674, -1.8906,  0.8014],\n",
      "        [ 1.9014,  1.5473, -1.0890],\n",
      "        [-1.0395, -0.8056, -0.1365]], grad_fn=<EmbeddingBackward0>)\n"
     ]
    }
   ],
   "source": [
    "volab_size = 80\n",
    "embedding_dim = 3   \n",
    "embedding = nn.Embedding(volab_size, embedding_dim) \n",
    "\n",
    "# Example input: indices representing words\n",
    "input_indices = torch.tensor([0, 1, 3])\n",
    "\n",
    "# Get embeddings for input indices\n",
    "output = embedding(input_indices)\n",
    "\n",
    "print(\"Embedding Matrix:\\n\", embedding.weight)\n",
    "print(\"Output Embeddings:\\n\", output)\n"
   ]
  },
  {
   "cell_type": "code",
   "execution_count": 73,
   "metadata": {},
   "outputs": [
    {
     "name": "stdout",
     "output_type": "stream",
     "text": [
      "tensor([[ 9, 12, 15],\n",
      "        [19, 26, 33],\n",
      "        [29, 40, 51]])\n",
      "tensor([[ 9, 12, 15],\n",
      "        [19, 26, 33],\n",
      "        [29, 40, 51]])\n"
     ]
    }
   ],
   "source": [
    "a = torch.tensor([(1,2),(3,4),(5,6)])   \n",
    "b = torch.tensor([(1,2,3),(4,5,6)]) \n",
    "out = a@b\n",
    "print(out)\n",
    "print(torch.matmul(a,b))\n"
   ]
  },
  {
   "cell_type": "code",
   "execution_count": 78,
   "metadata": {},
   "outputs": [
    {
     "name": "stdout",
     "output_type": "stream",
     "text": [
      "tensor([[52., 53.],\n",
      "        [15., 13.],\n",
      "        [ 7., 17.]])\n",
      "tensor([[0.8747, 0.4602, 0.1764],\n",
      "        [0.0186, 0.0495, 0.3598]])\n",
      "tensor([[46.4718, 26.5547, 28.2383],\n",
      "        [13.3628,  7.5468,  7.3224],\n",
      "        [ 6.4391,  4.0627,  7.3506]])\n"
     ]
    }
   ],
   "source": [
    "int_64 = torch.randint(0,100,(3,2)).float()\n",
    "float_32 = torch.rand((2,3))    \n",
    "print(int_64)\n",
    "print(float_32) \n",
    "print(int_64@float_32)  "
   ]
  },
  {
   "cell_type": "code",
   "execution_count": null,
   "metadata": {},
   "outputs": [],
   "source": []
  }
 ],
 "metadata": {
  "kernelspec": {
   "display_name": "cuda",
   "language": "python",
   "name": "python3"
  },
  "language_info": {
   "codemirror_mode": {
    "name": "ipython",
    "version": 3
   },
   "file_extension": ".py",
   "mimetype": "text/x-python",
   "name": "python",
   "nbconvert_exporter": "python",
   "pygments_lexer": "ipython3",
   "version": "3.10.10"
  }
 },
 "nbformat": 4,
 "nbformat_minor": 2
}
